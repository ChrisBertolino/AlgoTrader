{
  "nbformat": 4,
  "nbformat_minor": 0,
  "metadata": {
    "colab": {
      "provenance": []
    },
    "kernelspec": {
      "name": "python3",
      "display_name": "Python 3"
    },
    "language_info": {
      "name": "python"
    }
  },
  "cells": [
    {
      "cell_type": "code",
      "execution_count": null,
      "metadata": {
        "colab": {
          "base_uri": "https://localhost:8080/",
          "height": 17
        },
        "id": "iC_xsdz96Niu",
        "outputId": "09c85d2b-f73f-4841-9690-64a340150fd7"
      },
      "outputs": [
        {
          "output_type": "display_data",
          "data": {
            "text/plain": [
              "<IPython.core.display.HTML object>"
            ],
            "text/html": [
              "<style>.container { width:100% !important; }</style>"
            ]
          },
          "metadata": {}
        }
      ],
      "source": [
        "# Package imports\n",
        "import pandas as pd\n",
        "import numpy as np\n",
        "import seaborn as sns\n",
        "\n",
        "# Display matplotlib graphs in notebook\n",
        "from matplotlib import pyplot as plt\n",
        "%matplotlib inline\n",
        "\n",
        "# Set all Figure Size to 12,8\n",
        "from pylab import rcParams\n",
        "rcParams['figure.figsize'] = 12, 8\n",
        "\n",
        "# Import Date Time for Time Series\n",
        "from datetime import datetime\n",
        "\n",
        "# Pandas Display Options\n",
        "pd.options.display.float_format = '{:.2f}'.format\n",
        "pd.options.display.max_columns = None\n",
        "pd.options.display.max_colwidth = 150\n",
        "\n",
        "# Increase display width\n",
        "from IPython.display import display, HTML\n",
        "display(HTML(\"<style>.container { width:100% !important; }</style>\"))\n",
        "\n",
        "# Return Pandas Dataframes instead of Numpy Arrays\n",
        "from sklearn import set_config\n",
        "set_config(transform_output=\"pandas\")\n",
        "\n",
        "# Suppress warnings\n",
        "import warnings\n",
        "warnings.filterwarnings('ignore')\n",
        "\n",
        "# Show progrss bar during code compilation\n",
        "from tqdm import tqdm"
      ]
    },
    {
      "cell_type": "code",
      "source": [
        "# Analysis is for one year of BTC price data: 2-6-2023 to 2-8-2024.\n",
        "  # We pull data starting from January so that 1-day/5-day/25-day fractal time frame analysis is possible on February 2023 data.\n",
        "\n",
        "import yfinance as yf\n",
        "\n",
        "df = yf.download('BTC-USD', start = '2023-1-14', end = '2024-2-11', progress = False)"
      ],
      "metadata": {
        "id": "u6BzNlqy_wLo"
      },
      "execution_count": null,
      "outputs": []
    },
    {
      "cell_type": "code",
      "source": [
        "# Confirm Index is of type DatetimeIndex.\n",
        "\n",
        "df.index"
      ],
      "metadata": {
        "colab": {
          "base_uri": "https://localhost:8080/"
        },
        "id": "Q90IIX4pAIPa",
        "outputId": "39e35c91-58e9-4250-f2a7-edb0104a700f"
      },
      "execution_count": null,
      "outputs": [
        {
          "output_type": "execute_result",
          "data": {
            "text/plain": [
              "DatetimeIndex(['2023-01-14', '2023-01-15', '2023-01-16', '2023-01-17',\n",
              "               '2023-01-18', '2023-01-19', '2023-01-20', '2023-01-21',\n",
              "               '2023-01-22', '2023-01-23',\n",
              "               ...\n",
              "               '2024-02-01', '2024-02-02', '2024-02-03', '2024-02-04',\n",
              "               '2024-02-05', '2024-02-06', '2024-02-07', '2024-02-08',\n",
              "               '2024-02-09', '2024-02-10'],\n",
              "              dtype='datetime64[ns]', name='Date', length=393, freq=None)"
            ]
          },
          "metadata": {},
          "execution_count": 505
        }
      ]
    },
    {
      "cell_type": "code",
      "source": [
        "# Confirm dataframe was constructed with expected data.\n",
        "\n",
        "df.head()"
      ],
      "metadata": {
        "colab": {
          "base_uri": "https://localhost:8080/",
          "height": 238
        },
        "id": "-6h0vgRnKRhk",
        "outputId": "1cf67aeb-9d55-4c29-80f5-4f3b9de8f449"
      },
      "execution_count": null,
      "outputs": [
        {
          "output_type": "execute_result",
          "data": {
            "text/plain": [
              "               Open     High      Low    Close  Adj Close       Volume\n",
              "Date                                                                  \n",
              "2023-01-14 19910.54 21075.14 19907.83 20976.30   20976.30  38967784639\n",
              "2023-01-15 20977.48 20993.75 20606.99 20880.80   20880.80  19298407543\n",
              "2023-01-16 20882.22 21360.88 20715.75 21169.63   21169.63  26792494050\n",
              "2023-01-17 21175.83 21438.66 20978.53 21161.52   21161.52  24999983362\n",
              "2023-01-18 21161.05 21564.50 20541.54 20688.78   20688.78  30005625418"
            ],
            "text/html": [
              "\n",
              "  <div id=\"df-f6fde88f-5cf5-4602-92bb-5605cafdbd7d\" class=\"colab-df-container\">\n",
              "    <div>\n",
              "<style scoped>\n",
              "    .dataframe tbody tr th:only-of-type {\n",
              "        vertical-align: middle;\n",
              "    }\n",
              "\n",
              "    .dataframe tbody tr th {\n",
              "        vertical-align: top;\n",
              "    }\n",
              "\n",
              "    .dataframe thead th {\n",
              "        text-align: right;\n",
              "    }\n",
              "</style>\n",
              "<table border=\"1\" class=\"dataframe\">\n",
              "  <thead>\n",
              "    <tr style=\"text-align: right;\">\n",
              "      <th></th>\n",
              "      <th>Open</th>\n",
              "      <th>High</th>\n",
              "      <th>Low</th>\n",
              "      <th>Close</th>\n",
              "      <th>Adj Close</th>\n",
              "      <th>Volume</th>\n",
              "    </tr>\n",
              "    <tr>\n",
              "      <th>Date</th>\n",
              "      <th></th>\n",
              "      <th></th>\n",
              "      <th></th>\n",
              "      <th></th>\n",
              "      <th></th>\n",
              "      <th></th>\n",
              "    </tr>\n",
              "  </thead>\n",
              "  <tbody>\n",
              "    <tr>\n",
              "      <th>2023-01-14</th>\n",
              "      <td>19910.54</td>\n",
              "      <td>21075.14</td>\n",
              "      <td>19907.83</td>\n",
              "      <td>20976.30</td>\n",
              "      <td>20976.30</td>\n",
              "      <td>38967784639</td>\n",
              "    </tr>\n",
              "    <tr>\n",
              "      <th>2023-01-15</th>\n",
              "      <td>20977.48</td>\n",
              "      <td>20993.75</td>\n",
              "      <td>20606.99</td>\n",
              "      <td>20880.80</td>\n",
              "      <td>20880.80</td>\n",
              "      <td>19298407543</td>\n",
              "    </tr>\n",
              "    <tr>\n",
              "      <th>2023-01-16</th>\n",
              "      <td>20882.22</td>\n",
              "      <td>21360.88</td>\n",
              "      <td>20715.75</td>\n",
              "      <td>21169.63</td>\n",
              "      <td>21169.63</td>\n",
              "      <td>26792494050</td>\n",
              "    </tr>\n",
              "    <tr>\n",
              "      <th>2023-01-17</th>\n",
              "      <td>21175.83</td>\n",
              "      <td>21438.66</td>\n",
              "      <td>20978.53</td>\n",
              "      <td>21161.52</td>\n",
              "      <td>21161.52</td>\n",
              "      <td>24999983362</td>\n",
              "    </tr>\n",
              "    <tr>\n",
              "      <th>2023-01-18</th>\n",
              "      <td>21161.05</td>\n",
              "      <td>21564.50</td>\n",
              "      <td>20541.54</td>\n",
              "      <td>20688.78</td>\n",
              "      <td>20688.78</td>\n",
              "      <td>30005625418</td>\n",
              "    </tr>\n",
              "  </tbody>\n",
              "</table>\n",
              "</div>\n",
              "    <div class=\"colab-df-buttons\">\n",
              "\n",
              "  <div class=\"colab-df-container\">\n",
              "    <button class=\"colab-df-convert\" onclick=\"convertToInteractive('df-f6fde88f-5cf5-4602-92bb-5605cafdbd7d')\"\n",
              "            title=\"Convert this dataframe to an interactive table.\"\n",
              "            style=\"display:none;\">\n",
              "\n",
              "  <svg xmlns=\"http://www.w3.org/2000/svg\" height=\"24px\" viewBox=\"0 -960 960 960\">\n",
              "    <path d=\"M120-120v-720h720v720H120Zm60-500h600v-160H180v160Zm220 220h160v-160H400v160Zm0 220h160v-160H400v160ZM180-400h160v-160H180v160Zm440 0h160v-160H620v160ZM180-180h160v-160H180v160Zm440 0h160v-160H620v160Z\"/>\n",
              "  </svg>\n",
              "    </button>\n",
              "\n",
              "  <style>\n",
              "    .colab-df-container {\n",
              "      display:flex;\n",
              "      gap: 12px;\n",
              "    }\n",
              "\n",
              "    .colab-df-convert {\n",
              "      background-color: #E8F0FE;\n",
              "      border: none;\n",
              "      border-radius: 50%;\n",
              "      cursor: pointer;\n",
              "      display: none;\n",
              "      fill: #1967D2;\n",
              "      height: 32px;\n",
              "      padding: 0 0 0 0;\n",
              "      width: 32px;\n",
              "    }\n",
              "\n",
              "    .colab-df-convert:hover {\n",
              "      background-color: #E2EBFA;\n",
              "      box-shadow: 0px 1px 2px rgba(60, 64, 67, 0.3), 0px 1px 3px 1px rgba(60, 64, 67, 0.15);\n",
              "      fill: #174EA6;\n",
              "    }\n",
              "\n",
              "    .colab-df-buttons div {\n",
              "      margin-bottom: 4px;\n",
              "    }\n",
              "\n",
              "    [theme=dark] .colab-df-convert {\n",
              "      background-color: #3B4455;\n",
              "      fill: #D2E3FC;\n",
              "    }\n",
              "\n",
              "    [theme=dark] .colab-df-convert:hover {\n",
              "      background-color: #434B5C;\n",
              "      box-shadow: 0px 1px 3px 1px rgba(0, 0, 0, 0.15);\n",
              "      filter: drop-shadow(0px 1px 2px rgba(0, 0, 0, 0.3));\n",
              "      fill: #FFFFFF;\n",
              "    }\n",
              "  </style>\n",
              "\n",
              "    <script>\n",
              "      const buttonEl =\n",
              "        document.querySelector('#df-f6fde88f-5cf5-4602-92bb-5605cafdbd7d button.colab-df-convert');\n",
              "      buttonEl.style.display =\n",
              "        google.colab.kernel.accessAllowed ? 'block' : 'none';\n",
              "\n",
              "      async function convertToInteractive(key) {\n",
              "        const element = document.querySelector('#df-f6fde88f-5cf5-4602-92bb-5605cafdbd7d');\n",
              "        const dataTable =\n",
              "          await google.colab.kernel.invokeFunction('convertToInteractive',\n",
              "                                                    [key], {});\n",
              "        if (!dataTable) return;\n",
              "\n",
              "        const docLinkHtml = 'Like what you see? Visit the ' +\n",
              "          '<a target=\"_blank\" href=https://colab.research.google.com/notebooks/data_table.ipynb>data table notebook</a>'\n",
              "          + ' to learn more about interactive tables.';\n",
              "        element.innerHTML = '';\n",
              "        dataTable['output_type'] = 'display_data';\n",
              "        await google.colab.output.renderOutput(dataTable, element);\n",
              "        const docLink = document.createElement('div');\n",
              "        docLink.innerHTML = docLinkHtml;\n",
              "        element.appendChild(docLink);\n",
              "      }\n",
              "    </script>\n",
              "  </div>\n",
              "\n",
              "\n",
              "<div id=\"df-820d4e42-b014-44ab-8e0e-ee3397b1ba0e\">\n",
              "  <button class=\"colab-df-quickchart\" onclick=\"quickchart('df-820d4e42-b014-44ab-8e0e-ee3397b1ba0e')\"\n",
              "            title=\"Suggest charts\"\n",
              "            style=\"display:none;\">\n",
              "\n",
              "<svg xmlns=\"http://www.w3.org/2000/svg\" height=\"24px\"viewBox=\"0 0 24 24\"\n",
              "     width=\"24px\">\n",
              "    <g>\n",
              "        <path d=\"M19 3H5c-1.1 0-2 .9-2 2v14c0 1.1.9 2 2 2h14c1.1 0 2-.9 2-2V5c0-1.1-.9-2-2-2zM9 17H7v-7h2v7zm4 0h-2V7h2v10zm4 0h-2v-4h2v4z\"/>\n",
              "    </g>\n",
              "</svg>\n",
              "  </button>\n",
              "\n",
              "<style>\n",
              "  .colab-df-quickchart {\n",
              "      --bg-color: #E8F0FE;\n",
              "      --fill-color: #1967D2;\n",
              "      --hover-bg-color: #E2EBFA;\n",
              "      --hover-fill-color: #174EA6;\n",
              "      --disabled-fill-color: #AAA;\n",
              "      --disabled-bg-color: #DDD;\n",
              "  }\n",
              "\n",
              "  [theme=dark] .colab-df-quickchart {\n",
              "      --bg-color: #3B4455;\n",
              "      --fill-color: #D2E3FC;\n",
              "      --hover-bg-color: #434B5C;\n",
              "      --hover-fill-color: #FFFFFF;\n",
              "      --disabled-bg-color: #3B4455;\n",
              "      --disabled-fill-color: #666;\n",
              "  }\n",
              "\n",
              "  .colab-df-quickchart {\n",
              "    background-color: var(--bg-color);\n",
              "    border: none;\n",
              "    border-radius: 50%;\n",
              "    cursor: pointer;\n",
              "    display: none;\n",
              "    fill: var(--fill-color);\n",
              "    height: 32px;\n",
              "    padding: 0;\n",
              "    width: 32px;\n",
              "  }\n",
              "\n",
              "  .colab-df-quickchart:hover {\n",
              "    background-color: var(--hover-bg-color);\n",
              "    box-shadow: 0 1px 2px rgba(60, 64, 67, 0.3), 0 1px 3px 1px rgba(60, 64, 67, 0.15);\n",
              "    fill: var(--button-hover-fill-color);\n",
              "  }\n",
              "\n",
              "  .colab-df-quickchart-complete:disabled,\n",
              "  .colab-df-quickchart-complete:disabled:hover {\n",
              "    background-color: var(--disabled-bg-color);\n",
              "    fill: var(--disabled-fill-color);\n",
              "    box-shadow: none;\n",
              "  }\n",
              "\n",
              "  .colab-df-spinner {\n",
              "    border: 2px solid var(--fill-color);\n",
              "    border-color: transparent;\n",
              "    border-bottom-color: var(--fill-color);\n",
              "    animation:\n",
              "      spin 1s steps(1) infinite;\n",
              "  }\n",
              "\n",
              "  @keyframes spin {\n",
              "    0% {\n",
              "      border-color: transparent;\n",
              "      border-bottom-color: var(--fill-color);\n",
              "      border-left-color: var(--fill-color);\n",
              "    }\n",
              "    20% {\n",
              "      border-color: transparent;\n",
              "      border-left-color: var(--fill-color);\n",
              "      border-top-color: var(--fill-color);\n",
              "    }\n",
              "    30% {\n",
              "      border-color: transparent;\n",
              "      border-left-color: var(--fill-color);\n",
              "      border-top-color: var(--fill-color);\n",
              "      border-right-color: var(--fill-color);\n",
              "    }\n",
              "    40% {\n",
              "      border-color: transparent;\n",
              "      border-right-color: var(--fill-color);\n",
              "      border-top-color: var(--fill-color);\n",
              "    }\n",
              "    60% {\n",
              "      border-color: transparent;\n",
              "      border-right-color: var(--fill-color);\n",
              "    }\n",
              "    80% {\n",
              "      border-color: transparent;\n",
              "      border-right-color: var(--fill-color);\n",
              "      border-bottom-color: var(--fill-color);\n",
              "    }\n",
              "    90% {\n",
              "      border-color: transparent;\n",
              "      border-bottom-color: var(--fill-color);\n",
              "    }\n",
              "  }\n",
              "</style>\n",
              "\n",
              "  <script>\n",
              "    async function quickchart(key) {\n",
              "      const quickchartButtonEl =\n",
              "        document.querySelector('#' + key + ' button');\n",
              "      quickchartButtonEl.disabled = true;  // To prevent multiple clicks.\n",
              "      quickchartButtonEl.classList.add('colab-df-spinner');\n",
              "      try {\n",
              "        const charts = await google.colab.kernel.invokeFunction(\n",
              "            'suggestCharts', [key], {});\n",
              "      } catch (error) {\n",
              "        console.error('Error during call to suggestCharts:', error);\n",
              "      }\n",
              "      quickchartButtonEl.classList.remove('colab-df-spinner');\n",
              "      quickchartButtonEl.classList.add('colab-df-quickchart-complete');\n",
              "    }\n",
              "    (() => {\n",
              "      let quickchartButtonEl =\n",
              "        document.querySelector('#df-820d4e42-b014-44ab-8e0e-ee3397b1ba0e button');\n",
              "      quickchartButtonEl.style.display =\n",
              "        google.colab.kernel.accessAllowed ? 'block' : 'none';\n",
              "    })();\n",
              "  </script>\n",
              "</div>\n",
              "\n",
              "    </div>\n",
              "  </div>\n"
            ],
            "application/vnd.google.colaboratory.intrinsic+json": {
              "type": "dataframe",
              "variable_name": "df",
              "summary": "{\n  \"name\": \"df\",\n  \"rows\": 393,\n  \"fields\": [\n    {\n      \"column\": \"Open\",\n      \"properties\": {\n        \"dtype\": \"number\",\n        \"std\": 6780.058827723229,\n        \"min\": 19910.537109375,\n        \"max\": 47153.52734375,\n        \"samples\": [\n          28462.845703125,\n          27162.62890625,\n          26532.994140625\n        ],\n        \"num_unique_values\": 393,\n        \"semantic_type\": \"\",\n        \"description\": \"\"\n      }\n    },\n    {\n      \"column\": \"High\",\n      \"properties\": {\n        \"dtype\": \"number\",\n        \"std\": 6936.302162447009,\n        \"min\": 20370.595703125,\n        \"max\": 48969.37109375,\n        \"samples\": [\n          28518.958984375,\n          29448.138671875,\n          27414.734375\n        ],\n        \"num_unique_values\": 393,\n        \"semantic_type\": \"\",\n        \"description\": \"\"\n      }\n    },\n    {\n      \"column\": \"Low\",\n      \"properties\": {\n        \"dtype\": \"number\",\n        \"std\": 6639.065882718713,\n        \"min\": 19628.25390625,\n        \"max\": 46905.3203125,\n        \"samples\": [\n          27884.087890625,\n          27130.47265625,\n          26445.07421875\n        ],\n        \"num_unique_values\": 392,\n        \"semantic_type\": \"\",\n        \"description\": \"\"\n      }\n    },\n    {\n      \"column\": \"Close\",\n      \"properties\": {\n        \"dtype\": \"number\",\n        \"std\": 6812.478542890594,\n        \"min\": 20187.244140625,\n        \"max\": 47771.27734375,\n        \"samples\": [\n          28199.30859375,\n          28519.466796875,\n          26754.28125\n        ],\n        \"num_unique_values\": 393,\n        \"semantic_type\": \"\",\n        \"description\": \"\"\n      }\n    },\n    {\n      \"column\": \"Adj Close\",\n      \"properties\": {\n        \"dtype\": \"number\",\n        \"std\": 6812.478542890594,\n        \"min\": 20187.244140625,\n        \"max\": 47771.27734375,\n        \"samples\": [\n          28199.30859375,\n          28519.466796875,\n          26754.28125\n        ],\n        \"num_unique_values\": 393,\n        \"semantic_type\": \"\",\n        \"description\": \"\"\n      }\n    },\n    {\n      \"column\": \"Volume\",\n      \"properties\": {\n        \"dtype\": \"number\",\n        \"std\": 9023356014,\n        \"min\": 5331172801,\n        \"max\": 54622230164,\n        \"samples\": [\n          12284641999,\n          27833876539,\n          15615339655\n        ],\n        \"num_unique_values\": 393,\n        \"semantic_type\": \"\",\n        \"description\": \"\"\n      }\n    }\n  ]\n}"
            }
          },
          "metadata": {},
          "execution_count": 506
        }
      ]
    },
    {
      "cell_type": "code",
      "source": [
        "# Remove all columns except the closing price\n",
        "\n",
        "df = df[['Close']]"
      ],
      "metadata": {
        "id": "9aSe3Fn5M3JD"
      },
      "execution_count": null,
      "outputs": []
    },
    {
      "cell_type": "code",
      "source": [
        "# Rename feature to Price\n",
        "\n",
        "df = df.rename({'Close': 'Price'}, axis = 1)"
      ],
      "metadata": {
        "id": "cBcy6WG9hGde"
      },
      "execution_count": null,
      "outputs": []
    },
    {
      "cell_type": "code",
      "source": [
        "# Confirm we do not have null data in our Time Series\n",
        "\n",
        "df.isnull().sum()"
      ],
      "metadata": {
        "colab": {
          "base_uri": "https://localhost:8080/"
        },
        "id": "ZqtsjaZ0NRUw",
        "outputId": "2256f303-4ac4-469c-e333-40227354c4fd"
      },
      "execution_count": null,
      "outputs": [
        {
          "output_type": "execute_result",
          "data": {
            "text/plain": [
              "Price    0\n",
              "dtype: int64"
            ]
          },
          "metadata": {},
          "execution_count": 509
        }
      ]
    },
    {
      "cell_type": "code",
      "source": [
        "# We will need the row number in integer form later on.\n",
        "\n",
        "df['idx_num'] = np.arange(df.shape[0])"
      ],
      "metadata": {
        "id": "CpN4JqOyIupA"
      },
      "execution_count": null,
      "outputs": []
    },
    {
      "cell_type": "code",
      "source": [
        "# Confirmation Time Series is properly formatted and cleaned prior to Linear Regression.\n",
        "\n",
        "df.head()"
      ],
      "metadata": {
        "colab": {
          "base_uri": "https://localhost:8080/",
          "height": 238
        },
        "id": "iTsV0JWIk2Hl",
        "outputId": "e0f1b411-94ba-46ff-87b2-e1b15e6264a2"
      },
      "execution_count": null,
      "outputs": [
        {
          "output_type": "execute_result",
          "data": {
            "text/plain": [
              "              Price  idx_num\n",
              "Date                        \n",
              "2023-01-14 20976.30        0\n",
              "2023-01-15 20880.80        1\n",
              "2023-01-16 21169.63        2\n",
              "2023-01-17 21161.52        3\n",
              "2023-01-18 20688.78        4"
            ],
            "text/html": [
              "\n",
              "  <div id=\"df-3b57307e-182d-42ac-8435-f398e56ae075\" class=\"colab-df-container\">\n",
              "    <div>\n",
              "<style scoped>\n",
              "    .dataframe tbody tr th:only-of-type {\n",
              "        vertical-align: middle;\n",
              "    }\n",
              "\n",
              "    .dataframe tbody tr th {\n",
              "        vertical-align: top;\n",
              "    }\n",
              "\n",
              "    .dataframe thead th {\n",
              "        text-align: right;\n",
              "    }\n",
              "</style>\n",
              "<table border=\"1\" class=\"dataframe\">\n",
              "  <thead>\n",
              "    <tr style=\"text-align: right;\">\n",
              "      <th></th>\n",
              "      <th>Price</th>\n",
              "      <th>idx_num</th>\n",
              "    </tr>\n",
              "    <tr>\n",
              "      <th>Date</th>\n",
              "      <th></th>\n",
              "      <th></th>\n",
              "    </tr>\n",
              "  </thead>\n",
              "  <tbody>\n",
              "    <tr>\n",
              "      <th>2023-01-14</th>\n",
              "      <td>20976.30</td>\n",
              "      <td>0</td>\n",
              "    </tr>\n",
              "    <tr>\n",
              "      <th>2023-01-15</th>\n",
              "      <td>20880.80</td>\n",
              "      <td>1</td>\n",
              "    </tr>\n",
              "    <tr>\n",
              "      <th>2023-01-16</th>\n",
              "      <td>21169.63</td>\n",
              "      <td>2</td>\n",
              "    </tr>\n",
              "    <tr>\n",
              "      <th>2023-01-17</th>\n",
              "      <td>21161.52</td>\n",
              "      <td>3</td>\n",
              "    </tr>\n",
              "    <tr>\n",
              "      <th>2023-01-18</th>\n",
              "      <td>20688.78</td>\n",
              "      <td>4</td>\n",
              "    </tr>\n",
              "  </tbody>\n",
              "</table>\n",
              "</div>\n",
              "    <div class=\"colab-df-buttons\">\n",
              "\n",
              "  <div class=\"colab-df-container\">\n",
              "    <button class=\"colab-df-convert\" onclick=\"convertToInteractive('df-3b57307e-182d-42ac-8435-f398e56ae075')\"\n",
              "            title=\"Convert this dataframe to an interactive table.\"\n",
              "            style=\"display:none;\">\n",
              "\n",
              "  <svg xmlns=\"http://www.w3.org/2000/svg\" height=\"24px\" viewBox=\"0 -960 960 960\">\n",
              "    <path d=\"M120-120v-720h720v720H120Zm60-500h600v-160H180v160Zm220 220h160v-160H400v160Zm0 220h160v-160H400v160ZM180-400h160v-160H180v160Zm440 0h160v-160H620v160ZM180-180h160v-160H180v160Zm440 0h160v-160H620v160Z\"/>\n",
              "  </svg>\n",
              "    </button>\n",
              "\n",
              "  <style>\n",
              "    .colab-df-container {\n",
              "      display:flex;\n",
              "      gap: 12px;\n",
              "    }\n",
              "\n",
              "    .colab-df-convert {\n",
              "      background-color: #E8F0FE;\n",
              "      border: none;\n",
              "      border-radius: 50%;\n",
              "      cursor: pointer;\n",
              "      display: none;\n",
              "      fill: #1967D2;\n",
              "      height: 32px;\n",
              "      padding: 0 0 0 0;\n",
              "      width: 32px;\n",
              "    }\n",
              "\n",
              "    .colab-df-convert:hover {\n",
              "      background-color: #E2EBFA;\n",
              "      box-shadow: 0px 1px 2px rgba(60, 64, 67, 0.3), 0px 1px 3px 1px rgba(60, 64, 67, 0.15);\n",
              "      fill: #174EA6;\n",
              "    }\n",
              "\n",
              "    .colab-df-buttons div {\n",
              "      margin-bottom: 4px;\n",
              "    }\n",
              "\n",
              "    [theme=dark] .colab-df-convert {\n",
              "      background-color: #3B4455;\n",
              "      fill: #D2E3FC;\n",
              "    }\n",
              "\n",
              "    [theme=dark] .colab-df-convert:hover {\n",
              "      background-color: #434B5C;\n",
              "      box-shadow: 0px 1px 3px 1px rgba(0, 0, 0, 0.15);\n",
              "      filter: drop-shadow(0px 1px 2px rgba(0, 0, 0, 0.3));\n",
              "      fill: #FFFFFF;\n",
              "    }\n",
              "  </style>\n",
              "\n",
              "    <script>\n",
              "      const buttonEl =\n",
              "        document.querySelector('#df-3b57307e-182d-42ac-8435-f398e56ae075 button.colab-df-convert');\n",
              "      buttonEl.style.display =\n",
              "        google.colab.kernel.accessAllowed ? 'block' : 'none';\n",
              "\n",
              "      async function convertToInteractive(key) {\n",
              "        const element = document.querySelector('#df-3b57307e-182d-42ac-8435-f398e56ae075');\n",
              "        const dataTable =\n",
              "          await google.colab.kernel.invokeFunction('convertToInteractive',\n",
              "                                                    [key], {});\n",
              "        if (!dataTable) return;\n",
              "\n",
              "        const docLinkHtml = 'Like what you see? Visit the ' +\n",
              "          '<a target=\"_blank\" href=https://colab.research.google.com/notebooks/data_table.ipynb>data table notebook</a>'\n",
              "          + ' to learn more about interactive tables.';\n",
              "        element.innerHTML = '';\n",
              "        dataTable['output_type'] = 'display_data';\n",
              "        await google.colab.output.renderOutput(dataTable, element);\n",
              "        const docLink = document.createElement('div');\n",
              "        docLink.innerHTML = docLinkHtml;\n",
              "        element.appendChild(docLink);\n",
              "      }\n",
              "    </script>\n",
              "  </div>\n",
              "\n",
              "\n",
              "<div id=\"df-66a3d8cc-b0cc-466d-b363-ddbc57e0605d\">\n",
              "  <button class=\"colab-df-quickchart\" onclick=\"quickchart('df-66a3d8cc-b0cc-466d-b363-ddbc57e0605d')\"\n",
              "            title=\"Suggest charts\"\n",
              "            style=\"display:none;\">\n",
              "\n",
              "<svg xmlns=\"http://www.w3.org/2000/svg\" height=\"24px\"viewBox=\"0 0 24 24\"\n",
              "     width=\"24px\">\n",
              "    <g>\n",
              "        <path d=\"M19 3H5c-1.1 0-2 .9-2 2v14c0 1.1.9 2 2 2h14c1.1 0 2-.9 2-2V5c0-1.1-.9-2-2-2zM9 17H7v-7h2v7zm4 0h-2V7h2v10zm4 0h-2v-4h2v4z\"/>\n",
              "    </g>\n",
              "</svg>\n",
              "  </button>\n",
              "\n",
              "<style>\n",
              "  .colab-df-quickchart {\n",
              "      --bg-color: #E8F0FE;\n",
              "      --fill-color: #1967D2;\n",
              "      --hover-bg-color: #E2EBFA;\n",
              "      --hover-fill-color: #174EA6;\n",
              "      --disabled-fill-color: #AAA;\n",
              "      --disabled-bg-color: #DDD;\n",
              "  }\n",
              "\n",
              "  [theme=dark] .colab-df-quickchart {\n",
              "      --bg-color: #3B4455;\n",
              "      --fill-color: #D2E3FC;\n",
              "      --hover-bg-color: #434B5C;\n",
              "      --hover-fill-color: #FFFFFF;\n",
              "      --disabled-bg-color: #3B4455;\n",
              "      --disabled-fill-color: #666;\n",
              "  }\n",
              "\n",
              "  .colab-df-quickchart {\n",
              "    background-color: var(--bg-color);\n",
              "    border: none;\n",
              "    border-radius: 50%;\n",
              "    cursor: pointer;\n",
              "    display: none;\n",
              "    fill: var(--fill-color);\n",
              "    height: 32px;\n",
              "    padding: 0;\n",
              "    width: 32px;\n",
              "  }\n",
              "\n",
              "  .colab-df-quickchart:hover {\n",
              "    background-color: var(--hover-bg-color);\n",
              "    box-shadow: 0 1px 2px rgba(60, 64, 67, 0.3), 0 1px 3px 1px rgba(60, 64, 67, 0.15);\n",
              "    fill: var(--button-hover-fill-color);\n",
              "  }\n",
              "\n",
              "  .colab-df-quickchart-complete:disabled,\n",
              "  .colab-df-quickchart-complete:disabled:hover {\n",
              "    background-color: var(--disabled-bg-color);\n",
              "    fill: var(--disabled-fill-color);\n",
              "    box-shadow: none;\n",
              "  }\n",
              "\n",
              "  .colab-df-spinner {\n",
              "    border: 2px solid var(--fill-color);\n",
              "    border-color: transparent;\n",
              "    border-bottom-color: var(--fill-color);\n",
              "    animation:\n",
              "      spin 1s steps(1) infinite;\n",
              "  }\n",
              "\n",
              "  @keyframes spin {\n",
              "    0% {\n",
              "      border-color: transparent;\n",
              "      border-bottom-color: var(--fill-color);\n",
              "      border-left-color: var(--fill-color);\n",
              "    }\n",
              "    20% {\n",
              "      border-color: transparent;\n",
              "      border-left-color: var(--fill-color);\n",
              "      border-top-color: var(--fill-color);\n",
              "    }\n",
              "    30% {\n",
              "      border-color: transparent;\n",
              "      border-left-color: var(--fill-color);\n",
              "      border-top-color: var(--fill-color);\n",
              "      border-right-color: var(--fill-color);\n",
              "    }\n",
              "    40% {\n",
              "      border-color: transparent;\n",
              "      border-right-color: var(--fill-color);\n",
              "      border-top-color: var(--fill-color);\n",
              "    }\n",
              "    60% {\n",
              "      border-color: transparent;\n",
              "      border-right-color: var(--fill-color);\n",
              "    }\n",
              "    80% {\n",
              "      border-color: transparent;\n",
              "      border-right-color: var(--fill-color);\n",
              "      border-bottom-color: var(--fill-color);\n",
              "    }\n",
              "    90% {\n",
              "      border-color: transparent;\n",
              "      border-bottom-color: var(--fill-color);\n",
              "    }\n",
              "  }\n",
              "</style>\n",
              "\n",
              "  <script>\n",
              "    async function quickchart(key) {\n",
              "      const quickchartButtonEl =\n",
              "        document.querySelector('#' + key + ' button');\n",
              "      quickchartButtonEl.disabled = true;  // To prevent multiple clicks.\n",
              "      quickchartButtonEl.classList.add('colab-df-spinner');\n",
              "      try {\n",
              "        const charts = await google.colab.kernel.invokeFunction(\n",
              "            'suggestCharts', [key], {});\n",
              "      } catch (error) {\n",
              "        console.error('Error during call to suggestCharts:', error);\n",
              "      }\n",
              "      quickchartButtonEl.classList.remove('colab-df-spinner');\n",
              "      quickchartButtonEl.classList.add('colab-df-quickchart-complete');\n",
              "    }\n",
              "    (() => {\n",
              "      let quickchartButtonEl =\n",
              "        document.querySelector('#df-66a3d8cc-b0cc-466d-b363-ddbc57e0605d button');\n",
              "      quickchartButtonEl.style.display =\n",
              "        google.colab.kernel.accessAllowed ? 'block' : 'none';\n",
              "    })();\n",
              "  </script>\n",
              "</div>\n",
              "\n",
              "    </div>\n",
              "  </div>\n"
            ],
            "application/vnd.google.colaboratory.intrinsic+json": {
              "type": "dataframe",
              "variable_name": "df",
              "summary": "{\n  \"name\": \"df\",\n  \"rows\": 393,\n  \"fields\": [\n    {\n      \"column\": \"Price\",\n      \"properties\": {\n        \"dtype\": \"number\",\n        \"std\": 6812.478542890594,\n        \"min\": 20187.244140625,\n        \"max\": 47771.27734375,\n        \"samples\": [\n          28199.30859375,\n          28519.466796875,\n          26754.28125\n        ],\n        \"num_unique_values\": 393,\n        \"semantic_type\": \"\",\n        \"description\": \"\"\n      }\n    },\n    {\n      \"column\": \"idx_num\",\n      \"properties\": {\n        \"dtype\": \"number\",\n        \"std\": 113,\n        \"min\": 0,\n        \"max\": 392,\n        \"samples\": [\n          78,\n          275,\n          247\n        ],\n        \"num_unique_values\": 393,\n        \"semantic_type\": \"\",\n        \"description\": \"\"\n      }\n    }\n  ]\n}"
            }
          },
          "metadata": {},
          "execution_count": 511
        }
      ]
    },
    {
      "cell_type": "code",
      "source": [
        "# Plot Bitcoin Daily Price Data\n",
        "\n",
        "import matplotlib.ticker as mtick\n",
        "fmt = '${x:,.0f}'\n",
        "tick = mtick.StrMethodFormatter(fmt)\n",
        "\n",
        "fig, ax = plt.subplots(1, 1)\n",
        "plt.plot(df.Price)\n",
        "plt.title('Bitcoin Daily Price Chart')\n",
        "plt.xlabel('Date')\n",
        "plt.ylabel('Price')\n",
        "ax.yaxis.set_major_formatter(tick)\n",
        "plt.yticks\n",
        "plt.grid(True)"
      ],
      "metadata": {
        "colab": {
          "base_uri": "https://localhost:8080/",
          "height": 718
        },
        "id": "cUmuOUQVOlm1",
        "outputId": "1fd0ee1c-0fed-48f3-a1e2-85eef48f759f"
      },
      "execution_count": null,
      "outputs": [
        {
          "output_type": "display_data",
          "data": {
            "text/plain": [
              "<Figure size 1200x800 with 1 Axes>"
            ],
            "image/png": "[encoded data removed]"
          },
          "metadata": {}
        }
      ]
    },
    {
      "cell_type": "code",
      "source": [
        "# Determine the week day based upon the datetime index\n",
        "import calendar\n",
        "\n",
        "calendar.day_name[df.index[0].weekday()]"
      ],
      "metadata": {
        "colab": {
          "base_uri": "https://localhost:8080/",
          "height": 35
        },
        "id": "JcyNlsPWSnU7",
        "outputId": "810241c3-03b6-4457-899c-03384f0ad326"
      },
      "execution_count": null,
      "outputs": [
        {
          "output_type": "execute_result",
          "data": {
            "text/plain": [
              "'Saturday'"
            ],
            "application/vnd.google.colaboratory.intrinsic+json": {
              "type": "string"
            }
          },
          "metadata": {},
          "execution_count": 513
        }
      ]
    },
    {
      "cell_type": "code",
      "source": [
        "# Determine all Monday and Thursday dates in Time Series, and add to respective list.\n",
        "  # Our trades execute on Tuesday 12:00 am using the closing price from Monday.\n",
        "  # Our trades close on Friday 12:00 am using the closing price from Thursday.\n",
        "  # The prices for Monday - Thursday serve as our test data for the regression\n",
        "\n",
        "# Build list of current price + n days of lag prices, and add price list to respective list.\n",
        "  # Lag prices serve as the training data for the regression.\n",
        "\n",
        "# Build list of linear regressions and add slopes to respective list.\n",
        "\n",
        "Monday = []\n",
        "Thursday = []\n",
        "Future_Price_3_Day = []\n",
        "\n",
        "Lag_Price_1_Day = []\n",
        "Lag_Price_5_Day = []\n",
        "Lag_Price_25_Day = []\n",
        "\n",
        "Slopes_1_Day = []\n",
        "Slopes_5_Day = []\n",
        "Slopes_25_Day = []"
      ],
      "metadata": {
        "id": "KszVmXBCPQ2n"
      },
      "execution_count": null,
      "outputs": []
    },
    {
      "cell_type": "code",
      "source": [
        "# Monday and Thursday list.\n",
        "\n",
        "for index, values in df.iterrows():\n",
        "  if calendar.day_name[index.weekday()] == 'Monday':\n",
        "    Monday.append(index)\n",
        "  elif calendar.day_name[index.weekday()] == 'Thursday':\n",
        "    Thursday.append(index)"
      ],
      "metadata": {
        "id": "QpSv3djn583R"
      },
      "execution_count": null,
      "outputs": []
    },
    {
      "cell_type": "code",
      "source": [
        "# Slice list to remove date values prior to Feb 6 2023.\n",
        "  # We need price data in January to calculate slope of 25 day fractal timeframe.\n",
        "  # But we don't want active trades to go this far back. Active trades start Monday Feb 6 2023.\n",
        "\n",
        "Monday = Monday[3:]\n",
        "Thursday = Thursday[3:]"
      ],
      "metadata": {
        "id": "Fj4kVwPed8yx"
      },
      "execution_count": null,
      "outputs": []
    },
    {
      "cell_type": "code",
      "source": [
        "Monday[0]"
      ],
      "metadata": {
        "colab": {
          "base_uri": "https://localhost:8080/"
        },
        "id": "JC4PVnnvZufJ",
        "outputId": "5ca70a7a-8e0d-4093-b1ee-27595e4d5640"
      },
      "execution_count": null,
      "outputs": [
        {
          "output_type": "execute_result",
          "data": {
            "text/plain": [
              "Timestamp('2023-02-06 00:00:00')"
            ]
          },
          "metadata": {},
          "execution_count": 517
        }
      ]
    },
    {
      "cell_type": "code",
      "source": [
        "Thursday[0]"
      ],
      "metadata": {
        "colab": {
          "base_uri": "https://localhost:8080/"
        },
        "id": "aclEYHxvZwLv",
        "outputId": "f86aebab-683d-4baf-84e5-b798e1c7a6c0"
      },
      "execution_count": null,
      "outputs": [
        {
          "output_type": "execute_result",
          "data": {
            "text/plain": [
              "Timestamp('2023-02-09 00:00:00')"
            ]
          },
          "metadata": {},
          "execution_count": 518
        }
      ]
    },
    {
      "cell_type": "code",
      "source": [
        "# Function to populate lag price list.\n",
        "\n",
        "def build_lags(Monday_list, days, lag_list):\n",
        "  for list_idx, timestamp in enumerate(Monday_list):\n",
        "    for df_idx, price, row_idx in df.itertuples():\n",
        "      if timestamp == df_idx:\n",
        "        temp_list = []\n",
        "        for x in range(row_idx - days, row_idx):\n",
        "          temp_list.append(df.loc[df.index[x]]['Price'])\n",
        "        lag_list.append(temp_list)"
      ],
      "metadata": {
        "id": "C34BV5YFyukR"
      },
      "execution_count": null,
      "outputs": []
    },
    {
      "cell_type": "code",
      "source": [
        "# Build the lag lists for each fractal timeframe.\n",
        "  # Need 2 data points to do a linear regression.\n",
        "  # Lag_Price_1_Day is only lag list with this \"= 1\".\n",
        "\n",
        "build_lags(Monday, 2, Lag_Price_1_Day)\n",
        "build_lags(Monday, 5, Lag_Price_5_Day)\n",
        "build_lags(Monday, 25, Lag_Price_25_Day)"
      ],
      "metadata": {
        "id": "KKg7FfRv9ar5"
      },
      "execution_count": null,
      "outputs": []
    },
    {
      "cell_type": "code",
      "source": [
        "Lag_Price_1_Day"
      ],
      "metadata": {
        "colab": {
          "base_uri": "https://localhost:8080/"
        },
        "id": "hq3PhQoZdX0s",
        "outputId": "50f1b2c4-937b-4847-8078-21ce47b0c7e4"
      },
      "execution_count": null,
      "outputs": [
        {
          "output_type": "execute_result",
          "data": {
            "text/plain": [
              "[[23331.84765625, 22955.666015625],\n",
              " [21870.875, 21788.203125],\n",
              " [24641.27734375, 24327.642578125],\n",
              " [23175.375, 23561.212890625],\n",
              " [22353.349609375, 22435.513671875],\n",
              " [20632.41015625, 22163.94921875],\n",
              " [26965.87890625, 28038.67578125],\n",
              " [27494.70703125, 27994.330078125],\n",
              " [28411.03515625, 28199.30859375],\n",
              " [27947.794921875, 28333.05078125],\n",
              " [30318.49609375, 30315.35546875],\n",
              " [27817.5, 27591.384765625],\n",
              " [29248.48828125, 29268.806640625],\n",
              " [28904.623046875, 28454.978515625],\n",
              " [26784.078125, 26930.638671875],\n",
              " [27129.5859375, 26753.826171875],\n",
              " [26868.353515625, 28085.646484375],\n",
              " [27075.12890625, 27119.06640625],\n",
              " [25851.240234375, 25940.16796875],\n",
              " [26510.67578125, 26336.212890625],\n",
              " [30548.6953125, 30480.26171875],\n",
              " [30590.078125, 30620.76953125],\n",
              " [30292.541015625, 30171.234375],\n",
              " [30295.806640625, 30249.1328125],\n",
              " [29771.802734375, 30084.5390625],\n",
              " [29356.91796875, 29275.30859375],\n",
              " [29042.126953125, 29041.85546875],\n",
              " [29415.96484375, 29282.9140625],\n",
              " [26096.205078125, 26189.583984375],\n",
              " [26008.462890625, 26089.693359375],\n",
              " [25868.798828125, 25969.56640625],\n",
              " [25895.677734375, 25832.2265625],\n",
              " [26568.28125, 26534.1875],\n",
              " [26579.390625, 26256.826171875],\n",
              " [26967.916015625, 27983.75],\n",
              " [27968.83984375, 27935.08984375],\n",
              " [26861.70703125, 27159.65234375],\n",
              " [29918.412109375, 29993.896484375],\n",
              " [34089.57421875, 34538.48046875],\n",
              " [35082.1953125, 35049.35546875],\n",
              " [37138.05078125, 37054.51953125],\n",
              " [36585.703125, 37386.546875],\n",
              " [37796.79296875, 37479.12109375],\n",
              " [39476.33203125, 39978.390625],\n",
              " [43725.984375, 43779.69921875],\n",
              " [42240.1171875, 41364.6640625],\n",
              " [43739.54296875, 43016.1171875],\n",
              " [42156.90234375, 42265.1875],\n",
              " [43989.1953125, 43943.09765625],\n",
              " [42842.3828125, 41796.26953125],\n",
              " [41665.5859375, 41545.78515625],\n",
              " [42120.0546875, 42035.59375],\n",
              " [42992.25, 42583.58203125]]"
            ]
          },
          "metadata": {},
          "execution_count": 521
        }
      ]
    },
    {
      "cell_type": "code",
      "source": [
        "# Build generic x value to calculate the slope of price (y value).\n",
        "\n",
        "X_Lag_1 = [i for i in range(len(Lag_Price_1_Day[0]))]\n",
        "X_Lag_5 = [i for i in range(len(Lag_Price_5_Day[0]))]\n",
        "X_Lag_25 = [i for i in range(len(Lag_Price_25_Day[0]))]"
      ],
      "metadata": {
        "id": "8ZeeViyPKpI5"
      },
      "execution_count": null,
      "outputs": []
    },
    {
      "cell_type": "code",
      "source": [
        "X_Lag_5"
      ],
      "metadata": {
        "colab": {
          "base_uri": "https://localhost:8080/"
        },
        "id": "2MPH2C_8cmYx",
        "outputId": "a3e6970d-fc73-42aa-a0cd-2e7ccb7b3d88"
      },
      "execution_count": null,
      "outputs": [
        {
          "output_type": "execute_result",
          "data": {
            "text/plain": [
              "[0, 1, 2, 3, 4]"
            ]
          },
          "metadata": {},
          "execution_count": 523
        }
      ]
    },
    {
      "cell_type": "code",
      "source": [
        "from scipy.stats import linregress"
      ],
      "metadata": {
        "id": "Q0c3IkiDKoqx"
      },
      "execution_count": null,
      "outputs": []
    },
    {
      "cell_type": "code",
      "source": [
        "# Function to build slope list.\n",
        "\n",
        "def build_slopes(Monday_list, lag_list, x_lag_list, slope_list):\n",
        "  for list_idx, timestamp in enumerate(Monday_list):\n",
        "    temp_list = []\n",
        "    slope = linregress(lag_list[list_idx], x_lag_list).slope\n",
        "    temp_list.append(slope)\n",
        "    slope_list.append(temp_list)"
      ],
      "metadata": {
        "id": "aKyPpeqDLluN"
      },
      "execution_count": null,
      "outputs": []
    },
    {
      "cell_type": "code",
      "source": [
        "# Build the slopes for each fractal timeframe.\n",
        "\n",
        "build_slopes(Monday, Lag_Price_1_Day, X_Lag_1, Slopes_1_Day)\n",
        "build_slopes(Monday, Lag_Price_5_Day, X_Lag_5, Slopes_5_Day)\n",
        "build_slopes(Monday, Lag_Price_25_Day, X_Lag_25, Slopes_25_Day)"
      ],
      "metadata": {
        "id": "_LzfhOwQd7Hj"
      },
      "execution_count": null,
      "outputs": []
    },
    {
      "cell_type": "code",
      "source": [
        "Slopes_5_Day"
      ],
      "metadata": {
        "colab": {
          "base_uri": "https://localhost:8080/"
        },
        "id": "VkUn1Qb-cdcy",
        "outputId": "362c0427-31f6-4fa1-83f4-f28a027b5d0c"
      },
      "execution_count": null,
      "outputs": [
        {
          "output_type": "execute_result",
          "data": {
            "text/plain": [
              "[[-0.005345286332218854],\n",
              " [-0.002050663334427405],\n",
              " [0.0016386415841802772],\n",
              " [-0.002503583167610437],\n",
              " [-0.002107715135613876],\n",
              " [0.0003780921896512336],\n",
              " [0.0009274184065052068],\n",
              " [0.0007378065337010541],\n",
              " [0.0006212823215901354],\n",
              " [0.0018431065521071026],\n",
              " [0.004133750829042764],\n",
              " [-0.0019960688273176607],\n",
              " [0.0021142762526776917],\n",
              " [-0.001736419760449349],\n",
              " [-0.0033876253823570328],\n",
              " [-0.0035877237930278163],\n",
              " [0.002008775266041445],\n",
              " [0.0004651306982816101],\n",
              " [-0.0038557610552763],\n",
              " [0.0023583709068308576],\n",
              " [0.003281215612725311],\n",
              " [0.006680770884695192],\n",
              " [-0.0014962629711114013],\n",
              " [-0.001351223689910813],\n",
              " [0.005156721907073357],\n",
              " [-0.0008641256961270259],\n",
              " [-0.021932770016929833],\n",
              " [-0.014491505986293288],\n",
              " [-0.001107820953904799],\n",
              " [-0.0073753419187951],\n",
              " [-0.0017043133062327129],\n",
              " [-0.0013449833843705286],\n",
              " [0.006889738608266087],\n",
              " [-0.004346233342228463],\n",
              " [0.0023170100637711607],\n",
              " [0.003835750104252091],\n",
              " [0.007406672733420793],\n",
              " [0.0019804569689130832],\n",
              " [1.4307663171386318e-05],\n",
              " [-0.0023898383012060168],\n",
              " [0.0018419819688912718],\n",
              " [-0.00028685181918580607],\n",
              " [0.003406207705693191],\n",
              " [0.0015351226540359553],\n",
              " [0.0013020210088318478],\n",
              " [-0.002031660771805326],\n",
              " [-0.0024221643266287484],\n",
              " [-0.0022848770186649245],\n",
              " [0.00161859124369007],\n",
              " [-0.0006601383150961223],\n",
              " [-0.0015449948448556087],\n",
              " [0.0012743331196432642],\n",
              " [-0.0002543478087995775]]"
            ]
          },
          "metadata": {},
          "execution_count": 541
        }
      ]
    },
    {
      "cell_type": "code",
      "source": [
        "Slopes_All_Fractal_Timeframes = []"
      ],
      "metadata": {
        "id": "JFontGlzfvC2"
      },
      "execution_count": null,
      "outputs": []
    },
    {
      "cell_type": "code",
      "source": [
        "# Create a list of all three slopes per timestamp.\n",
        "  # Add this list to list slopes all fractal timeframes.\n",
        "  # Allows us to view each fractal slope per timestamp.\n",
        "\n",
        "for list_idx, timestamp in enumerate(Monday):\n",
        "  temp_list = []\n",
        "  temp_list.append(Slopes_1_Day[list_idx])\n",
        "  temp_list.append(Slopes_5_Day[list_idx])\n",
        "  temp_list.append(Slopes_25_Day[list_idx])\n",
        "  Slopes_All_Fractal_Timeframes.append(temp_list)"
      ],
      "metadata": {
        "id": "PQykwFIHoXar"
      },
      "execution_count": null,
      "outputs": []
    },
    {
      "cell_type": "code",
      "source": [
        "Slopes_All_Fractal_Timeframes"
      ],
      "metadata": {
        "colab": {
          "base_uri": "https://localhost:8080/"
        },
        "id": "aEEn1C_McVnW",
        "outputId": "031025a1-ce76-4261-8675-1892e7901aaf"
      },
      "execution_count": null,
      "outputs": [
        {
          "output_type": "execute_result",
          "data": {
            "text/plain": [
              "[[[-0.0026582902832221387],\n",
              "  [-0.005345286332218854],\n",
              "  [-0.00038443532668467093]],\n",
              " [[-0.012096012096012096], [-0.002050663334427405], [-0.0014244526662616477]],\n",
              " [[-0.003188422042458323], [0.0016386415841802772], [0.0010031729997779834]],\n",
              " [[0.0025917620438473494], [-0.002503583167610437], [0.003176611157075314]],\n",
              " [[0.01217077113245222], [-0.002107715135613876], [0.001555441993817395]],\n",
              " [[0.0006529379657921718], [0.0003780921896512336], [-0.0049815235091567505]],\n",
              " [[0.0009321429091597606], [0.0009274184065052068], [0.0015187985812070122]],\n",
              " [[0.0020015089501069167], [0.0007378065337010541], [0.0022087577282362144]],\n",
              " [[-0.004723072949337663], [0.0006212823215901354], [0.0022655880204813733]],\n",
              " [[0.0025956775884532907], [0.0018431065521071026], [0.005657241477773397]],\n",
              " [[-0.31840796019900497], [0.004133750829042764], [0.005507738739708922]],\n",
              " [[-0.004422523775384163], [-0.0019960688273176607], [0.0014755280506968938]],\n",
              " [[0.049216572142651155], [0.0021142762526776917], [-0.0008932772505806599]],\n",
              " [[-0.002223979011198082], [-0.001736419760449349], [-0.00273791243542655]],\n",
              " [[0.006823118644971282], [-0.0033876253823570328], [-0.002728263422130359]],\n",
              " [[-0.0026612748130090597], [-0.0035877237930278163], [-0.006439641531087834]],\n",
              " [[0.0008214949282315076], [0.002008775266041445], [-0.005983251828462783]],\n",
              " [[0.02275960170697013], [0.0004651306982816101], [0.005217832369379082]],\n",
              " [[0.011245085765742022], [-0.0038557610552763], [-0.0045519604047976414]],\n",
              " [[-0.005731877973691576], [0.0023583709068308576], [-0.006745846126053346]],\n",
              " [[-0.01461270620469205], [0.003281215612725311], [0.002630589503485588]],\n",
              " [[0.03258241058928344], [0.006680770884695192], [0.003014820707982756]],\n",
              " [[-0.008243571785087507], [-0.0014962629711114013], [0.0031826406698050396]],\n",
              " [[-0.021425283508390174], [-0.001351223689910813], [0.0014303028505996615]],\n",
              " [[0.003197581828742014], [0.005156721907073357], [-0.010206265788294073]],\n",
              " [[-0.01225349416044419], [-0.0008641256961270259], [-0.0102331758562205]],\n",
              " [[-3.683453237410072], [-0.021932770016929833], [-0.010838621208657842]],\n",
              " [[-0.007515927306890578], [-0.014491505986293288], [-0.009404029999550546]],\n",
              " [[0.010709056682702363], [-0.001107820953904799], [-0.0040525319342185895]],\n",
              " [[0.012310651598942053], [-0.0073753419187951], [-0.004009943860639685]],\n",
              " [[0.009923826875738957], [-0.0017043133062327129], [-0.003831325707861884]],\n",
              " [[-0.015760150213931727], [-0.0013449833843705286], [-0.004477967172386059]],\n",
              " [[-0.02933088909257562], [0.006889738608266087], [-0.0006695111152874333]],\n",
              " [[-0.0031001556132798074], [-0.004346233342228463], [0.010769144475875814]],\n",
              " [[0.0009844128227460888], [0.0023170100637711607], [0.008554216251372398]],\n",
              " [[-0.02962962962962963], [0.003835750104252091], [0.009080234458340854]],\n",
              " [[0.0033563206335055196], [0.007406672733420793], [0.006067104188383859]],\n",
              " [[0.013247774787828607], [0.0019804569689130832], [0.00498046187617645]],\n",
              " [[0.002227636616776888], [1.4307663171386318e-05], [0.0022112967475673424]],\n",
              " [[-0.030450814797192815], [-0.0023898383012060168], [0.002127190354822403]],\n",
              " [[-0.011971567527123082], [0.0018419819688912718], [0.002811974537125738]],\n",
              " [[0.0012486830296172006], [-0.00028685181918580607], [0.005484291537626021]],\n",
              " [[-0.0031479022182873445], [0.003406207705693191], [0.005492125794515216]],\n",
              " [[0.001991799388455344], [0.0015351226540359553], [0.00510072145819511]],\n",
              " [[0.018616827867064215], [0.0013020210088318478], [0.0022903905300426983]],\n",
              " [[-0.0011422656124506951], [-0.002031660771805326], [0.002243545060119718]],\n",
              " [[-0.0013823118085066173], [-0.0024221643266287484], [0.0022746968575345543]],\n",
              " [[0.009234876086721258], [-0.0022848770186649245], [-0.0007204669019939984]],\n",
              " [[-0.021693076857893397], [0.00161859124369007], [0.004018451745684135]],\n",
              " [[-0.0009559194189802282], [-0.0006601383150961223], [0.001526517394136997]],\n",
              " [[-0.00834719097459976], [-0.0015449948448556087], [-0.0010862825163400875]],\n",
              " [[-0.011839792803625937], [0.0012743331196432642], [-0.002617559543065217]],\n",
              " [[-0.0024469742589778147],\n",
              "  [-0.0002543478087995775],\n",
              "  [-0.00046978877810188594]]]"
            ]
          },
          "metadata": {},
          "execution_count": 530
        }
      ]
    },
    {
      "cell_type": "code",
      "source": [
        "# A List of all profits and losses for every week's trade.\n",
        "\n",
        "Trade_Profit_Loss = []\n",
        "\n",
        "for list_idx, timestamp in enumerate(Monday):\n",
        "  temp_list = []\n",
        "  buy = df.loc[Monday[list_idx]]['Price']\n",
        "  sell = df.loc[Thursday[list_idx]]['Price']\n",
        "  delta = sell - buy\n",
        "  temp_list.append(delta)\n",
        "  Trade_Profit_Loss.append(temp_list)"
      ],
      "metadata": {
        "id": "nR2gpd8Eq1Y5"
      },
      "execution_count": null,
      "outputs": []
    },
    {
      "cell_type": "code",
      "source": [
        "Trade_Profit_Loss"
      ],
      "metadata": {
        "colab": {
          "base_uri": "https://localhost:8080/"
        },
        "id": "hCfmq4Y0ZMM_",
        "outputId": "10dc2086-89f0-42f3-a103-d1d7dd27a560"
      },
      "execution_count": null,
      "outputs": [
        {
          "output_type": "execute_result",
          "data": {
            "text/plain": [
              "[[-941.0703125],\n",
              " [1815.373046875],\n",
              " [-881.65625],\n",
              " [-47.404296875],\n",
              " [-2066.736328125],\n",
              " [855.255859375],\n",
              " [566.736328125],\n",
              " [893.673828125],\n",
              " [253.919921875],\n",
              " [746.0859375],\n",
              " [-1199.056640625],\n",
              " [1948.447265625],\n",
              " [756.142578125],\n",
              " [-693.484375],\n",
              " [-360.484375],\n",
              " [-375.0703125],\n",
              " [-925.912109375],\n",
              " [748.119140625],\n",
              " [-326.10546875],\n",
              " [3061.251953125],\n",
              " [174.220703125],\n",
              " [-1247.1015625],\n",
              " [1061.578125],\n",
              " [-353.873046875],\n",
              " [33.7734375],\n",
              " [-51.431640625],\n",
              " [249.013671875],\n",
              " [-2743.892578125],\n",
              " [38.232421875],\n",
              " [-174.677734375],\n",
              " [427.779296875],\n",
              " [1377.01953125],\n",
              " [-186.6484375],\n",
              " [723.06640625],\n",
              " [-114.873046875],\n",
              " [-826.87890625],\n",
              " [200.33984375],\n",
              " [1070.4140625],\n",
              " [435.87890625],\n",
              " [1655.75390625],\n",
              " [-347.5859375],\n",
              " [-187.3359375],\n",
              " [458.578125],\n",
              " [1312.56640625],\n",
              " [1780.140625],\n",
              " [1245.61328125],\n",
              " [-985.28515625],\n",
              " [12.58984375],\n",
              " [-601.91796875],\n",
              " [-1249.91015625],\n",
              " [426.44140625],\n",
              " [-212.47265625],\n",
              " [2642.8984375]]"
            ]
          },
          "metadata": {},
          "execution_count": 533
        }
      ]
    },
    {
      "cell_type": "code",
      "source": [
        "# List value will determine if we have a signal to enter a trade long.\n",
        "  # If 'Buy', then 2 of the 3 adjacent slopes had positive slope.\n",
        "  # Otherwise, \"Wait\".\n",
        "\n",
        "Trade_Indicator = []\n",
        "\n",
        "for list_idx, timestamp in enumerate(Monday):\n",
        "  temp_list = []\n",
        "  slopes = Slopes_All_Fractal_Timeframes[list_idx]\n",
        "\n",
        "  if slopes[1][0] <= 0:\n",
        "    temp_list.append(\"Wait\")\n",
        "  elif slopes[0][0] > 0:\n",
        "    temp_list.append(\"Buy\")\n",
        "  elif slopes[2][0] > 0:\n",
        "    temp_list.append(\"Buy\")\n",
        "  else:\n",
        "    temp_list.append(\"Wait\")\n",
        "\n",
        "  Trade_Indicator.append(temp_list)"
      ],
      "metadata": {
        "id": "R66xa_bNyRr7"
      },
      "execution_count": null,
      "outputs": []
    },
    {
      "cell_type": "code",
      "source": [
        "Trade_Indicator"
      ],
      "metadata": {
        "colab": {
          "base_uri": "https://localhost:8080/"
        },
        "id": "-i11z6PRb8RT",
        "outputId": "344f589b-3ffe-49ba-b6a7-8bc7c1bb54bc"
      },
      "execution_count": null,
      "outputs": [
        {
          "output_type": "execute_result",
          "data": {
            "text/plain": [
              "[['Wait'],\n",
              " ['Wait'],\n",
              " ['Buy'],\n",
              " ['Wait'],\n",
              " ['Wait'],\n",
              " ['Buy'],\n",
              " ['Buy'],\n",
              " ['Buy'],\n",
              " ['Buy'],\n",
              " ['Buy'],\n",
              " ['Buy'],\n",
              " ['Wait'],\n",
              " ['Buy'],\n",
              " ['Wait'],\n",
              " ['Wait'],\n",
              " ['Wait'],\n",
              " ['Buy'],\n",
              " ['Buy'],\n",
              " ['Wait'],\n",
              " ['Wait'],\n",
              " ['Buy'],\n",
              " ['Buy'],\n",
              " ['Wait'],\n",
              " ['Wait'],\n",
              " ['Buy'],\n",
              " ['Wait'],\n",
              " ['Wait'],\n",
              " ['Wait'],\n",
              " ['Wait'],\n",
              " ['Wait'],\n",
              " ['Wait'],\n",
              " ['Wait'],\n",
              " ['Wait'],\n",
              " ['Wait'],\n",
              " ['Buy'],\n",
              " ['Buy'],\n",
              " ['Buy'],\n",
              " ['Buy'],\n",
              " ['Buy'],\n",
              " ['Wait'],\n",
              " ['Buy'],\n",
              " ['Wait'],\n",
              " ['Buy'],\n",
              " ['Buy'],\n",
              " ['Buy'],\n",
              " ['Wait'],\n",
              " ['Wait'],\n",
              " ['Wait'],\n",
              " ['Buy'],\n",
              " ['Wait'],\n",
              " ['Wait'],\n",
              " ['Wait'],\n",
              " ['Wait']]"
            ]
          },
          "metadata": {},
          "execution_count": 535
        }
      ]
    },
    {
      "cell_type": "code",
      "source": [
        "# Create Control and Experiment Trading Accounts\n",
        "  # Starting Balance $100k.\n",
        "  # Every trade profit/loss will go against this account.\n",
        "\n",
        "control_account = 100000.00\n",
        "experiment_account = 100000.00"
      ],
      "metadata": {
        "id": "dDWOfjfj5CAm"
      },
      "execution_count": null,
      "outputs": []
    },
    {
      "cell_type": "code",
      "source": [
        "# Control Account trades every week.\n",
        "  # Iterate through entire Trade_Profit_Loss list.\n",
        "\n",
        "for list_idx, timestamp in enumerate(Monday):\n",
        "  delta = Trade_Profit_Loss[list_idx]\n",
        "  control_account += delta[0]"
      ],
      "metadata": {
        "id": "TRlr6BOh5kKo"
      },
      "execution_count": null,
      "outputs": []
    },
    {
      "cell_type": "code",
      "source": [
        "# Experimental Account trades only when indicator shows \"Buy\".\n",
        "  # Iterates through some of Trade_Profit_Loss list.\n",
        "\n",
        "for list_idx, timestamp in enumerate(Monday):\n",
        "  if Trade_Indicator[list_idx][0] == 'Buy':\n",
        "    delta = Trade_Profit_Loss[list_idx]\n",
        "    experiment_account += delta[0]"
      ],
      "metadata": {
        "id": "_9R6HheR52Mi"
      },
      "execution_count": null,
      "outputs": []
    },
    {
      "cell_type": "code",
      "source": [
        "control_account"
      ],
      "metadata": {
        "colab": {
          "base_uri": "https://localhost:8080/"
        },
        "id": "CN5MQBYYJhTb",
        "outputId": "acd25722-a0f4-4954-84fa-3197a7ce2bb4"
      },
      "execution_count": null,
      "outputs": [
        {
          "output_type": "execute_result",
          "data": {
            "text/plain": [
              "109870.0390625"
            ]
          },
          "metadata": {},
          "execution_count": 539
        }
      ]
    },
    {
      "cell_type": "code",
      "source": [
        "experiment_account"
      ],
      "metadata": {
        "colab": {
          "base_uri": "https://localhost:8080/"
        },
        "id": "yRnuGCiaTNci",
        "outputId": "a1288943-3917-4a09-fda9-05abd4b50567"
      },
      "execution_count": null,
      "outputs": [
        {
          "output_type": "execute_result",
          "data": {
            "text/plain": [
              "104140.86328125"
            ]
          },
          "metadata": {},
          "execution_count": 540
        }
      ]
    }
  ]
}